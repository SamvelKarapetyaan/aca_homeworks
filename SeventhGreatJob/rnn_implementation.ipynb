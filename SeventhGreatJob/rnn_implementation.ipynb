{
 "cells": [
  {
   "cell_type": "code",
   "execution_count": 1,
   "metadata": {},
   "outputs": [],
   "source": [
    "import numpy as np"
   ]
  },
  {
   "cell_type": "code",
   "execution_count": null,
   "metadata": {},
   "outputs": [],
   "source": [
    "class RNN:\n",
    "    def __init__(\n",
    "            self, \n",
    "            input_size, \n",
    "            output_size,\n",
    "            hidden_size,\n",
    "        ):\n",
    "        self.input_size = input_size\n",
    "        self.output_size = output_size\n",
    "        self.hidden_size = hidden_size\n",
    "\n",
    "        self.input_weights = np.random.normal(loc = 0, scale = 2 / (self.input_size + self.output_size), size=(self.input_size, self.output_size))\n",
    "        self.hidden_weights = np.random.normal(loc = 0, scale = 1 / self.hidden_size, size=(self.hidden_size, self.hidden_size))\n",
    "        self.bias = 0\n",
    "\n",
    "        self.output_weights = np.random.normal(loc = 0, scale = 2 / (self.input_size + self.output_size), size=(self.input_size, self.output_size))\n",
    "        self.output_bias = 0\n",
    "\n",
    "\n",
    "    def __call__(self, x, h):\n",
    "        hidden_state = np.tanh(x @ self.input_weights + h @ self.hidden_weights + self.bias)\n",
    "        output = hidden_state @ self.output_weights + self.output_bias\n",
    "\n",
    "        return hidden_state, output"
   ]
  },
  {
   "cell_type": "code",
   "execution_count": null,
   "metadata": {},
   "outputs": [],
   "source": [
    "# def train():\n",
    "layer = RNN()\n"
   ]
  },
  {
   "cell_type": "code",
   "execution_count": 12,
   "metadata": {},
   "outputs": [],
   "source": [
    "with open(\"news.txt\", \"r\") as file:\n",
    "    # for i in\n",
    "    line = file.readline()"
   ]
  },
  {
   "cell_type": "code",
   "execution_count": 30,
   "metadata": {},
   "outputs": [
    {
     "data": {
      "text/plain": [
       "{'\\n',\n",
       " ' ',\n",
       " ',',\n",
       " '.',\n",
       " 'A',\n",
       " 'B',\n",
       " 'C',\n",
       " 'J',\n",
       " 'L',\n",
       " 'O',\n",
       " 'P',\n",
       " 'S',\n",
       " 'T',\n",
       " 'U',\n",
       " 'W',\n",
       " 'a',\n",
       " 'b',\n",
       " 'c',\n",
       " 'd',\n",
       " 'e',\n",
       " 'f',\n",
       " 'g',\n",
       " 'h',\n",
       " 'i',\n",
       " 'l',\n",
       " 'm',\n",
       " 'n',\n",
       " 'o',\n",
       " 'p',\n",
       " 'q',\n",
       " 'r',\n",
       " 's',\n",
       " 't',\n",
       " 'u',\n",
       " 'v',\n",
       " 'y'}"
      ]
     },
     "execution_count": 30,
     "metadata": {},
     "output_type": "execute_result"
    }
   ],
   "source": [
    "uniq = set()\n",
    "\n",
    "set(line) | uniq"
   ]
  }
 ],
 "metadata": {
  "kernelspec": {
   "display_name": "Python 3",
   "language": "python",
   "name": "python3"
  },
  "language_info": {
   "codemirror_mode": {
    "name": "ipython",
    "version": 3
   },
   "file_extension": ".py",
   "mimetype": "text/x-python",
   "name": "python",
   "nbconvert_exporter": "python",
   "pygments_lexer": "ipython3",
   "version": "3.11.4"
  },
  "orig_nbformat": 4
 },
 "nbformat": 4,
 "nbformat_minor": 2
}
