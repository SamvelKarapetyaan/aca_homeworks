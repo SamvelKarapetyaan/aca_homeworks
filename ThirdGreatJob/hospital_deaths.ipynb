{
 "cells": [
  {
   "cell_type": "code",
   "execution_count": 70,
   "metadata": {},
   "outputs": [],
   "source": [
    "import tensorflow as tf\n",
    "from sklearn.metrics import f1_score\n",
    "from sklearn.model_selection import train_test_split\n",
    "import pandas as pd\n",
    "from imblearn.over_sampling import RandomOverSampler\n",
    "\n",
    "# Make train and test data\n",
    "ros = RandomOverSampler(random_state=42)\n",
    "\n",
    "\n",
    "data_train = pd.read_csv(\"hospital_deaths_train.csv\")\n",
    "X_train = data_train.drop(\"In-hospital_death\", axis=1)\n",
    "y_train = data_train['In-hospital_death'].to_numpy()\n",
    "\n",
    "data_test = pd.read_csv(\"hospital_deaths_test.csv\")\n",
    "X_test = data_test.drop(\"In-hospital_death\", axis=1)\n",
    "y_test = data_test['In-hospital_death'].to_numpy()\n",
    "\n",
    "means = X_train.mean()\n",
    "\n",
    "X_train = X_train.fillna(means).to_numpy()\n",
    "\n",
    "X_resampled, y_resampled = ros.fit_resample(X_train, y_train)\n",
    "\n",
    "X_resampled = X_resampled.reshape(X_resampled.shape[0], 1, X_resampled.shape[1])\n",
    "y_resampled = y_resampled.reshape(-1, 1, 1)\n",
    "\n",
    "X_test = X_test.fillna(means).to_numpy()\n",
    "\n",
    "X_test = X_test.reshape(X_test.shape[0], 1, X_test.shape[1])\n",
    "y_test = y_test.reshape(-1, 1, 1)"
   ]
  },
  {
   "cell_type": "code",
   "execution_count": 71,
   "metadata": {},
   "outputs": [
    {
     "name": "stdout",
     "output_type": "stream",
     "text": [
      "Epoch 1/5\n",
      "175/175 [==============================] - 1s 1ms/step - loss: 0.7109\n",
      "Epoch 2/5\n",
      "175/175 [==============================] - 0s 1ms/step - loss: 0.6954\n",
      "Epoch 3/5\n",
      "175/175 [==============================] - 0s 1ms/step - loss: 0.6935\n",
      "Epoch 4/5\n",
      "175/175 [==============================] - 0s 1ms/step - loss: 0.6933\n",
      "Epoch 5/5\n",
      "175/175 [==============================] - 0s 1ms/step - loss: 0.6932\n",
      "24/24 [==============================] - 0s 831us/step\n",
      "F2 score: 0.2415\n"
     ]
    }
   ],
   "source": [
    "model = tf.keras.Sequential([\n",
    "    tf.keras.layers.InputLayer((1, 115)),\n",
    "    tf.keras.layers.Dense(5, activation='sigmoid'),\n",
    "    tf.keras.layers.Dense(1, activation=\"sigmoid\")\n",
    "])\n",
    "\n",
    "model.compile(optimizer='adam', loss='binary_crossentropy')\n",
    "\n",
    "model.fit(X_resampled, y_resampled, epochs=5, batch_size=32)\n",
    "\n",
    "# Evaluate the model\n",
    "y_pred = model.predict(X_test)\n",
    "y_pred_binary = (y_pred >= 0.5).astype(int)\n",
    "\n",
    "f1 = f1_score(y_test.flatten(), y_pred_binary.flatten())\n",
    "print(f\"F2 score: {f1:.4f}\")\n",
    "\n",
    "# Overfitted data and nothing good"
   ]
  }
 ],
 "metadata": {
  "kernelspec": {
   "display_name": "Python 3",
   "language": "python",
   "name": "python3"
  },
  "language_info": {
   "codemirror_mode": {
    "name": "ipython",
    "version": 3
   },
   "file_extension": ".py",
   "mimetype": "text/x-python",
   "name": "python",
   "nbconvert_exporter": "python",
   "pygments_lexer": "ipython3",
   "version": "3.11.0"
  },
  "orig_nbformat": 4
 },
 "nbformat": 4,
 "nbformat_minor": 2
}
